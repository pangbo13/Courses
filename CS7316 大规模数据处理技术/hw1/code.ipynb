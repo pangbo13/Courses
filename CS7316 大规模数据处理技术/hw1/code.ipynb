{
 "cells": [
  {
   "cell_type": "code",
   "execution_count": null,
   "metadata": {},
   "outputs": [],
   "source": [
    "import pandas\n",
    "import numpy as np"
   ]
  },
  {
   "cell_type": "code",
   "execution_count": null,
   "metadata": {},
   "outputs": [],
   "source": [
    "class UserCF:\n",
    "    def __init__(self, data):\n",
    "        self.data = data\n",
    "        self.norm_user_rate = data - data.mean(axis=1,keepdims=True)\n",
    "        self.user_similarity_matrix = np.corrcoef(data)\n",
    "\n",
    "    def predict(self, user_id, item_id, k=10):\n",
    "        # remove users who haven't rated the item\n",
    "        non_zero_users = np.nonzero(self.data[:,item_id])[0]\n",
    "        # remove the user itself\n",
    "        non_zero_users = non_zero_users[non_zero_users != user_id]\n",
    "\n",
    "        sim_scores = self.user_similarity_matrix[user_id][non_zero_users]\n",
    "\n",
    "        if len(sim_scores) == 0:\n",
    "            return 0\n",
    "        elif len(sim_scores) < k:\n",
    "            similar_users = non_zero_users\n",
    "        else:\n",
    "            similar_users = non_zero_users[np.argsort(sim_scores)[-k:]]\n",
    "        prediction = self.data[similar_users, item_id].dot(self.user_similarity_matrix[user_id][similar_users]) / np.sum(self.user_similarity_matrix[user_id][similar_users])\n",
    "        return prediction\n",
    "        "
   ]
  },
  {
   "cell_type": "code",
   "execution_count": null,
   "metadata": {},
   "outputs": [],
   "source": [
    "class ItemCF:\n",
    "    def __init__(self, data):\n",
    "        self.data = data\n",
    "        self.norm_user_rate = data - data.mean(axis=1,keepdims=True)\n",
    "        self.item_similarity_matrix = np.corrcoef(data.T)\n",
    "\n",
    "    def predict(self, user_id, item_id, k=10):\n",
    "        # remove items that the user hasn't rated\n",
    "        non_zero_items = np.nonzero(self.data[user_id])[0]\n",
    "        sim_scores = self.item_similarity_matrix[item_id][non_zero_items]\n",
    "\n",
    "        if len(sim_scores) == 0:\n",
    "            return 0\n",
    "        elif len(sim_scores) < k:\n",
    "            similar_items = non_zero_items\n",
    "        else:\n",
    "            similar_items = non_zero_items[np.argsort(sim_scores)[-k:]]\n",
    "        prediction = self.data[user_id, similar_items].dot(self.item_similarity_matrix[item_id][similar_items]) / np.sum(self.item_similarity_matrix[item_id][similar_items])\n",
    "        return prediction"
   ]
  },
  {
   "cell_type": "code",
   "execution_count": null,
   "metadata": {},
   "outputs": [],
   "source": [
    "data = pandas.read_csv('col_matrix.csv').values"
   ]
  },
  {
   "cell_type": "code",
   "execution_count": null,
   "metadata": {},
   "outputs": [],
   "source": [
    "user_cf = UserCF(data)\n",
    "user_cf.predict(2, 7)"
   ]
  },
  {
   "cell_type": "code",
   "execution_count": null,
   "metadata": {},
   "outputs": [],
   "source": [
    "item_cf = ItemCF(data)\n",
    "item_cf.predict(2, 7)"
   ]
  },
  {
   "cell_type": "code",
   "execution_count": null,
   "metadata": {},
   "outputs": [],
   "source": [
    "# predict [4100:, 2700:]\n",
    "predictions = np.zeros((data.shape[0]-4100, data.shape[1]-2700))\n",
    "for i in range(4100, data.shape[0]):\n",
    "    for j in range(2700, data.shape[1]):\n",
    "        predictions[i-4100, j-2700] = item_cf.predict(i, j)\n",
    "np.savetxt('item_cf_predictions.csv', predictions, delimiter=',', fmt='%.2f')"
   ]
  },
  {
   "cell_type": "code",
   "execution_count": null,
   "metadata": {},
   "outputs": [],
   "source": [
    "predictions = np.zeros((data.shape[0]-4100, data.shape[1]-2700))\n",
    "for i in range(4100, data.shape[0]):\n",
    "    for j in range(2700, data.shape[1]):\n",
    "        predictions[i-4100, j-2700] = user_cf.predict(i, j)\n",
    "np.savetxt('user_cf_predictions.csv', predictions, delimiter=',', fmt='%.2f')"
   ]
  }
 ],
 "metadata": {
  "kernelspec": {
   "display_name": "base",
   "language": "python",
   "name": "python3"
  },
  "language_info": {
   "codemirror_mode": {
    "name": "ipython",
    "version": 3
   },
   "file_extension": ".py",
   "mimetype": "text/x-python",
   "name": "python",
   "nbconvert_exporter": "python",
   "pygments_lexer": "ipython3",
   "version": "3.9.7"
  }
 },
 "nbformat": 4,
 "nbformat_minor": 2
}
