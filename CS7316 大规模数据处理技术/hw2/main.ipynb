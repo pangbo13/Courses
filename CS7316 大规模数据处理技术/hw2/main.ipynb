{
 "cells": [
  {
   "cell_type": "code",
   "execution_count": 18,
   "metadata": {},
   "outputs": [],
   "source": [
    "import pandas as pd\n",
    "import numpy as np\n",
    "import scipy.sparse as sp\n",
    "from scipy.sparse import csr_matrix"
   ]
  },
  {
   "cell_type": "code",
   "execution_count": 19,
   "metadata": {},
   "outputs": [],
   "source": [
    "def normalize(mx):\n",
    "    rowsum = np.array(mx.sum(1))\n",
    "    rowsum[rowsum == 0] = 1\n",
    "    r_inv = np.power(rowsum.astype(float), -1).flatten()\n",
    "    r_mat_inv = sp.diags(r_inv)\n",
    "    mx = r_mat_inv.dot(mx)\n",
    "    return mx"
   ]
  },
  {
   "cell_type": "code",
   "execution_count": 20,
   "metadata": {},
   "outputs": [],
   "source": [
    "def pagerank(edges):\n",
    "    page_weights = np.ones((edges.shape[0],1))/edges.shape[0]\n",
    "    beta = 0.85\n",
    "\n",
    "    for i in range(1000):\n",
    "        new_page_weights = beta * edges @ page_weights + (1-beta)/edges.shape[0]\n",
    "        if np.allclose(new_page_weights, page_weights, atol=1e-12):\n",
    "            break\n",
    "        page_weights = new_page_weights\n",
    "    return page_weights"
   ]
  },
  {
   "cell_type": "code",
   "execution_count": 21,
   "metadata": {},
   "outputs": [],
   "source": [
    "raw_data = pd.read_csv('web_links.csv')\n",
    "edges = csr_matrix((np.ones(len(raw_data)),(raw_data['FromNodeId'],raw_data['ToNodeId'])))\n",
    "del raw_data\n",
    "edges = normalize(edges).T"
   ]
  },
  {
   "cell_type": "code",
   "execution_count": 23,
   "metadata": {},
   "outputs": [],
   "source": [
    "page_weights = pagerank(edges).flatten()"
   ]
  },
  {
   "cell_type": "code",
   "execution_count": 24,
   "metadata": {},
   "outputs": [],
   "source": [
    "top1k = np.argsort(page_weights)[::-1][:1000]\n",
    "result = pd.DataFrame(data = {'NodeId': top1k, 'PageRank_Value': page_weights[top1k]})\n",
    "result.to_csv('test_prediction.csv', index=False)"
   ]
  },
  {
   "cell_type": "code",
   "execution_count": 25,
   "metadata": {},
   "outputs": [],
   "source": [
    "raw_data = pd.read_csv('web_links.csv')"
   ]
  }
 ],
 "metadata": {
  "kernelspec": {
   "display_name": "base",
   "language": "python",
   "name": "python3"
  },
  "language_info": {
   "codemirror_mode": {
    "name": "ipython",
    "version": 3
   },
   "file_extension": ".py",
   "mimetype": "text/x-python",
   "name": "python",
   "nbconvert_exporter": "python",
   "pygments_lexer": "ipython3",
   "version": "3.9.7"
  }
 },
 "nbformat": 4,
 "nbformat_minor": 2
}
