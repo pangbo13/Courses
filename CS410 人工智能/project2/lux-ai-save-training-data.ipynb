{
 "cells": [
  {
   "cell_type": "code",
   "execution_count": 1,
   "id": "2b7b09e0",
   "metadata": {
    "execution": {
     "iopub.execute_input": "2021-12-03T06:22:24.481209Z",
     "iopub.status.busy": "2021-12-03T06:22:24.480384Z",
     "iopub.status.idle": "2021-12-03T06:22:25.312119Z",
     "shell.execute_reply": "2021-12-03T06:22:25.311396Z",
     "shell.execute_reply.started": "2021-12-03T06:16:44.240430Z"
    },
    "papermill": {
     "duration": 0.85219,
     "end_time": "2021-12-03T06:22:25.312297",
     "exception": false,
     "start_time": "2021-12-03T06:22:24.460107",
     "status": "completed"
    },
    "tags": []
   },
   "outputs": [
    {
     "name": "stdout",
     "output_type": "stream",
     "text": [
      "663\r\n"
     ]
    }
   ],
   "source": [
    "# !mkdir ./episodes\n",
    "# !cp ../input/lux-ai-top-episodes/* ./episodes\n",
    "# !rm ./episodes/*_info.json\n",
    "# !ls -1 ./episodes| wc -l\n",
    "\n",
    "!ls -1 ../input/lux-ai-top-episodes | wc -l"
   ]
  },
  {
   "cell_type": "code",
   "execution_count": 2,
   "id": "9652b3fd",
   "metadata": {
    "execution": {
     "iopub.execute_input": "2021-12-03T06:22:25.339033Z",
     "iopub.status.busy": "2021-12-03T06:22:25.338366Z",
     "iopub.status.idle": "2021-12-03T06:22:27.610074Z",
     "shell.execute_reply": "2021-12-03T06:22:27.609515Z",
     "shell.execute_reply.started": "2021-12-03T06:16:45.379091Z"
    },
    "papermill": {
     "duration": 2.286829,
     "end_time": "2021-12-03T06:22:27.610231",
     "exception": false,
     "start_time": "2021-12-03T06:22:25.323402",
     "status": "completed"
    },
    "tags": []
   },
   "outputs": [],
   "source": [
    "import numpy as np\n",
    "import json\n",
    "from pathlib import Path\n",
    "import os\n",
    "import random\n",
    "import pandas\n",
    "from tqdm.notebook import tqdm\n",
    "import torch\n",
    "from torch import nn\n",
    "import torch.nn.functional as F\n",
    "from torch.utils.data import Dataset, DataLoader\n",
    "import torch.optim as optim\n",
    "from sklearn.model_selection import train_test_split"
   ]
  },
  {
   "cell_type": "code",
   "execution_count": 3,
   "id": "3f6f24a5",
   "metadata": {
    "_cell_guid": "b1076dfc-b9ad-4769-8c92-a6c4dae69d19",
    "_uuid": "8f2839f25d086af736a60e9eeb907d3b93b6e0e5",
    "execution": {
     "iopub.execute_input": "2021-12-03T06:22:27.649361Z",
     "iopub.status.busy": "2021-12-03T06:22:27.631639Z",
     "iopub.status.idle": "2021-12-03T06:22:27.653291Z",
     "shell.execute_reply": "2021-12-03T06:22:27.652569Z",
     "shell.execute_reply.started": "2021-12-03T06:16:47.787083Z"
    },
    "papermill": {
     "duration": 0.034035,
     "end_time": "2021-12-03T06:22:27.653439",
     "exception": false,
     "start_time": "2021-12-03T06:22:27.619404",
     "status": "completed"
    },
    "tags": []
   },
   "outputs": [],
   "source": [
    "def to_label(action):\n",
    "    strs = action.split(' ')\n",
    "    unit_id = strs[1]\n",
    "    if strs[0] == 'm' or strs[0] == 'bcity':\n",
    "        if strs[0] == 'm':\n",
    "            label = {'c': None, 'n': 0, 's': 1, 'w': 2, 'e': 3}[strs[2]]\n",
    "        elif strs[0] == 'bcity':\n",
    "            label = 4\n",
    "        return unit_id, label\n",
    "    if strs[0] == 'r' or strs[0] == 'bw':\n",
    "        if strs[0] == 'r':\n",
    "            label = 5\n",
    "        elif strs[0] == 'bw':\n",
    "            label = 6\n",
    "        return (int(strs[1]),int(strs[2])),label\n",
    "    else:\n",
    "        return None,None\n",
    "    \n",
    "\n",
    "\n",
    "def depleted_resources(obs):\n",
    "    for u in obs['updates']:\n",
    "        if u.split(' ')[0] == 'r':\n",
    "            return False\n",
    "    return True\n",
    "\n",
    "\n",
    "def create_dataset_from_json(episode_dir, team_name=['Toad Brigade']): \n",
    "    obses = []\n",
    "    obses_index = 0\n",
    "    samples = []\n",
    "    city_samples = []\n",
    "    append = samples.append\n",
    "    episodes = []\n",
    "    for dir in episode_dir:\n",
    "        episodes.extend([path for path in Path(dir).glob('*.json') if 'output' not in path.name])\n",
    "    for filepath in tqdm(episodes): \n",
    "        with open(filepath) as f:\n",
    "            json_load = json.load(f)\n",
    "\n",
    "        ep_id = json_load['info']['EpisodeId']\n",
    "        index = np.argmax([r or 0 for r in json_load['rewards']])\n",
    "        if json_load['info']['TeamNames'][index] not in team_name:\n",
    "            continue\n",
    "\n",
    "        for i in range(len(json_load['steps'])-1):\n",
    "            if json_load['steps'][i][index]['status'] == 'ACTIVE':\n",
    "                actions = json_load['steps'][i+1][index]['action']\n",
    "                obs = json_load['steps'][i][0]['observation']\n",
    "                \n",
    "                if depleted_resources(obs):\n",
    "                    break\n",
    "                \n",
    "                obs['player'] = index\n",
    "#                 obs = dict([\n",
    "#                     (k,np.array(v)) for k,v in obs.items() \n",
    "#                     if k in ['step', 'updates', 'player', 'width', 'height']\n",
    "#                 ])\n",
    "                obs = [\n",
    "                    obs['step'],\n",
    "                    np.array(obs['updates']),\n",
    "                    obs['player'],\n",
    "                    obs['width'],\n",
    "                    obs['height'],\n",
    "                ]\n",
    "                #[step,updates,player,width,height]\n",
    "                obs_id = obses_index\n",
    "                obses_index += 1\n",
    "                obses.append(obs)\n",
    "                                \n",
    "                for action in actions:\n",
    "                    info, label = to_label(action)\n",
    "                    if label is not None:\n",
    "                        if label<=4:\n",
    "                            append((obs_id, info, label))\n",
    "                        else:\n",
    "                            city_samples.append((obs_id, info, label-5))\n",
    "\n",
    "    return np.array(obses), np.array(samples), np.array(city_samples)"
   ]
  },
  {
   "cell_type": "code",
   "execution_count": 4,
   "id": "287a074c",
   "metadata": {
    "execution": {
     "iopub.execute_input": "2021-12-03T06:22:27.678277Z",
     "iopub.status.busy": "2021-12-03T06:22:27.677088Z",
     "iopub.status.idle": "2021-12-03T06:23:16.355824Z",
     "shell.execute_reply": "2021-12-03T06:23:16.356286Z",
     "shell.execute_reply.started": "2021-12-03T06:18:52.600199Z"
    },
    "papermill": {
     "duration": 48.694028,
     "end_time": "2021-12-03T06:23:16.356467",
     "exception": false,
     "start_time": "2021-12-03T06:22:27.662439",
     "status": "completed"
    },
    "tags": []
   },
   "outputs": [
    {
     "data": {
      "application/vnd.jupyter.widget-view+json": {
       "model_id": "dfcb0b76e9674feeab29562080252396",
       "version_major": 2,
       "version_minor": 0
      },
      "text/plain": [
       "  0%|          | 0/663 [00:00<?, ?it/s]"
      ]
     },
     "metadata": {},
     "output_type": "display_data"
    },
    {
     "name": "stderr",
     "output_type": "stream",
     "text": [
      "/opt/conda/lib/python3.7/site-packages/ipykernel_launcher.py:79: VisibleDeprecationWarning: Creating an ndarray from ragged nested sequences (which is a list-or-tuple of lists-or-tuples-or ndarrays with different lengths or shapes) is deprecated. If you meant to do this, you must specify 'dtype=object' when creating the ndarray\n"
     ]
    },
    {
     "name": "stdout",
     "output_type": "stream",
     "text": [
      "obses: 201186 samples: 1467183 city samples: 131962\n"
     ]
    }
   ],
   "source": [
    "episode_dir = ['../input/lux-ai-top-episodes']\n",
    "obses, samples, city_samples = create_dataset_from_json(episode_dir)\n",
    "print('obses:', len(obses), 'samples:', len(samples),'city samples:', len(city_samples))"
   ]
  },
  {
   "cell_type": "code",
   "execution_count": 5,
   "id": "9e0daf97",
   "metadata": {
    "execution": {
     "iopub.execute_input": "2021-12-03T06:23:16.381605Z",
     "iopub.status.busy": "2021-12-03T06:23:16.380893Z",
     "iopub.status.idle": "2021-12-03T06:23:16.384428Z",
     "shell.execute_reply": "2021-12-03T06:23:16.383797Z",
     "shell.execute_reply.started": "2021-12-03T06:19:26.338808Z"
    },
    "papermill": {
     "duration": 0.018024,
     "end_time": "2021-12-03T06:23:16.384564",
     "exception": false,
     "start_time": "2021-12-03T06:23:16.366540",
     "status": "completed"
    },
    "tags": []
   },
   "outputs": [
    {
     "name": "stdout",
     "output_type": "stream",
     "text": [
      "(1467183, 3)\n"
     ]
    }
   ],
   "source": [
    "print(samples.shape)"
   ]
  },
  {
   "cell_type": "code",
   "execution_count": 6,
   "id": "d0553ece",
   "metadata": {
    "execution": {
     "iopub.execute_input": "2021-12-03T06:23:16.432958Z",
     "iopub.status.busy": "2021-12-03T06:23:16.427844Z",
     "iopub.status.idle": "2021-12-03T06:23:18.441500Z",
     "shell.execute_reply": "2021-12-03T06:23:18.442014Z",
     "shell.execute_reply.started": "2021-12-03T06:19:29.653340Z"
    },
    "papermill": {
     "duration": 2.047779,
     "end_time": "2021-12-03T06:23:18.442249",
     "exception": false,
     "start_time": "2021-12-03T06:23:16.394470",
     "status": "completed"
    },
    "tags": []
   },
   "outputs": [
    {
     "name": "stdout",
     "output_type": "stream",
     "text": [
      "north: 363929\n",
      "south: 355338\n",
      "west : 338863\n",
      "east : 319100\n",
      "bcity: 89953\n"
     ]
    }
   ],
   "source": [
    "labels = [sample[-1] for sample in samples]\n",
    "actions = ['north', 'south', 'west', 'east', 'bcity']\n",
    "for value, count in zip(*np.unique(labels, return_counts=True)):\n",
    "    print(f'{actions[int(value)]:^5}: {count:>3}')"
   ]
  },
  {
   "cell_type": "code",
   "execution_count": 7,
   "id": "c54c80c6",
   "metadata": {
    "execution": {
     "iopub.execute_input": "2021-12-03T06:23:18.513536Z",
     "iopub.status.busy": "2021-12-03T06:23:18.503144Z",
     "iopub.status.idle": "2021-12-03T06:23:18.560141Z",
     "shell.execute_reply": "2021-12-03T06:23:18.560796Z",
     "shell.execute_reply.started": "2021-12-03T06:19:36.808500Z"
    },
    "papermill": {
     "duration": 0.10814,
     "end_time": "2021-12-03T06:23:18.561021",
     "exception": false,
     "start_time": "2021-12-03T06:23:18.452881",
     "status": "completed"
    },
    "tags": []
   },
   "outputs": [
    {
     "name": "stdout",
     "output_type": "stream",
     "text": [
      "  r  : 95121\n",
      " bw  : 36841\n"
     ]
    }
   ],
   "source": [
    "city_labels = [sample[-1] for sample in city_samples]\n",
    "actions = ['r', 'bw']\n",
    "for value, count in zip(*np.unique(city_labels, return_counts=True)):\n",
    "    print(f'{actions[int(value)]:^5}: {count:>3}')"
   ]
  },
  {
   "cell_type": "code",
   "execution_count": 8,
   "id": "f66c4951",
   "metadata": {
    "execution": {
     "iopub.execute_input": "2021-12-03T06:23:18.589594Z",
     "iopub.status.busy": "2021-12-03T06:23:18.588857Z",
     "iopub.status.idle": "2021-12-03T06:24:03.650840Z",
     "shell.execute_reply": "2021-12-03T06:24:03.650222Z",
     "shell.execute_reply.started": "2021-12-03T06:19:42.060270Z"
    },
    "papermill": {
     "duration": 45.079311,
     "end_time": "2021-12-03T06:24:03.650992",
     "exception": false,
     "start_time": "2021-12-03T06:23:18.571681",
     "status": "completed"
    },
    "tags": []
   },
   "outputs": [],
   "source": [
    "np.save('samples.npy',samples)\n",
    "np.save('obses.npy',obses)\n",
    "train, val = train_test_split(samples, test_size=0.1, random_state=42, stratify=labels)\n",
    "np.save('train.npy',train)\n",
    "np.save('val.npy',val)\n",
    "train, val = train_test_split(city_samples, test_size=0.1, random_state=42, stratify=city_labels)\n",
    "np.save('city_train.npy',train)\n",
    "np.save('city_val.npy',val)"
   ]
  }
 ],
 "metadata": {
  "kernelspec": {
   "display_name": "Python 3",
   "language": "python",
   "name": "python3"
  },
  "language_info": {
   "codemirror_mode": {
    "name": "ipython",
    "version": 3
   },
   "file_extension": ".py",
   "mimetype": "text/x-python",
   "name": "python",
   "nbconvert_exporter": "python",
   "pygments_lexer": "ipython3",
   "version": "3.7.12"
  },
  "papermill": {
   "default_parameters": {},
   "duration": 112.390265,
   "end_time": "2021-12-03T06:24:06.717241",
   "environment_variables": {},
   "exception": null,
   "input_path": "__notebook__.ipynb",
   "output_path": "__notebook__.ipynb",
   "parameters": {},
   "start_time": "2021-12-03T06:22:14.326976",
   "version": "2.3.3"
  },
  "widgets": {
   "application/vnd.jupyter.widget-state+json": {
    "state": {
     "09f7fa692f954d52879458c9c548363a": {
      "model_module": "@jupyter-widgets/controls",
      "model_module_version": "1.5.0",
      "model_name": "DescriptionStyleModel",
      "state": {
       "_model_module": "@jupyter-widgets/controls",
       "_model_module_version": "1.5.0",
       "_model_name": "DescriptionStyleModel",
       "_view_count": null,
       "_view_module": "@jupyter-widgets/base",
       "_view_module_version": "1.2.0",
       "_view_name": "StyleView",
       "description_width": ""
      }
     },
     "3dbc7346c34a41988f76260693ff829a": {
      "model_module": "@jupyter-widgets/controls",
      "model_module_version": "1.5.0",
      "model_name": "HTMLModel",
      "state": {
       "_dom_classes": [],
       "_model_module": "@jupyter-widgets/controls",
       "_model_module_version": "1.5.0",
       "_model_name": "HTMLModel",
       "_view_count": null,
       "_view_module": "@jupyter-widgets/controls",
       "_view_module_version": "1.5.0",
       "_view_name": "HTMLView",
       "description": "",
       "description_tooltip": null,
       "layout": "IPY_MODEL_d9deb487876c42cfa3c95e2197175157",
       "placeholder": "​",
       "style": "IPY_MODEL_f4c08137c5514b589fba463f5b265850",
       "value": " 663/663 [00:44&lt;00:00, 17.34it/s]"
      }
     },
     "4e20a94ef6e244b19cd93e6bd066d539": {
      "model_module": "@jupyter-widgets/controls",
      "model_module_version": "1.5.0",
      "model_name": "FloatProgressModel",
      "state": {
       "_dom_classes": [],
       "_model_module": "@jupyter-widgets/controls",
       "_model_module_version": "1.5.0",
       "_model_name": "FloatProgressModel",
       "_view_count": null,
       "_view_module": "@jupyter-widgets/controls",
       "_view_module_version": "1.5.0",
       "_view_name": "ProgressView",
       "bar_style": "success",
       "description": "",
       "description_tooltip": null,
       "layout": "IPY_MODEL_59abe42b447040f1aa492981bf230756",
       "max": 663.0,
       "min": 0.0,
       "orientation": "horizontal",
       "style": "IPY_MODEL_7d455945b7214a47a25e9cf9dac01af0",
       "value": 663.0
      }
     },
     "59abe42b447040f1aa492981bf230756": {
      "model_module": "@jupyter-widgets/base",
      "model_module_version": "1.2.0",
      "model_name": "LayoutModel",
      "state": {
       "_model_module": "@jupyter-widgets/base",
       "_model_module_version": "1.2.0",
       "_model_name": "LayoutModel",
       "_view_count": null,
       "_view_module": "@jupyter-widgets/base",
       "_view_module_version": "1.2.0",
       "_view_name": "LayoutView",
       "align_content": null,
       "align_items": null,
       "align_self": null,
       "border": null,
       "bottom": null,
       "display": null,
       "flex": null,
       "flex_flow": null,
       "grid_area": null,
       "grid_auto_columns": null,
       "grid_auto_flow": null,
       "grid_auto_rows": null,
       "grid_column": null,
       "grid_gap": null,
       "grid_row": null,
       "grid_template_areas": null,
       "grid_template_columns": null,
       "grid_template_rows": null,
       "height": null,
       "justify_content": null,
       "justify_items": null,
       "left": null,
       "margin": null,
       "max_height": null,
       "max_width": null,
       "min_height": null,
       "min_width": null,
       "object_fit": null,
       "object_position": null,
       "order": null,
       "overflow": null,
       "overflow_x": null,
       "overflow_y": null,
       "padding": null,
       "right": null,
       "top": null,
       "visibility": null,
       "width": null
      }
     },
     "7d455945b7214a47a25e9cf9dac01af0": {
      "model_module": "@jupyter-widgets/controls",
      "model_module_version": "1.5.0",
      "model_name": "ProgressStyleModel",
      "state": {
       "_model_module": "@jupyter-widgets/controls",
       "_model_module_version": "1.5.0",
       "_model_name": "ProgressStyleModel",
       "_view_count": null,
       "_view_module": "@jupyter-widgets/base",
       "_view_module_version": "1.2.0",
       "_view_name": "StyleView",
       "bar_color": null,
       "description_width": ""
      }
     },
     "7d716191db2246809d6022da38edb020": {
      "model_module": "@jupyter-widgets/base",
      "model_module_version": "1.2.0",
      "model_name": "LayoutModel",
      "state": {
       "_model_module": "@jupyter-widgets/base",
       "_model_module_version": "1.2.0",
       "_model_name": "LayoutModel",
       "_view_count": null,
       "_view_module": "@jupyter-widgets/base",
       "_view_module_version": "1.2.0",
       "_view_name": "LayoutView",
       "align_content": null,
       "align_items": null,
       "align_self": null,
       "border": null,
       "bottom": null,
       "display": null,
       "flex": null,
       "flex_flow": null,
       "grid_area": null,
       "grid_auto_columns": null,
       "grid_auto_flow": null,
       "grid_auto_rows": null,
       "grid_column": null,
       "grid_gap": null,
       "grid_row": null,
       "grid_template_areas": null,
       "grid_template_columns": null,
       "grid_template_rows": null,
       "height": null,
       "justify_content": null,
       "justify_items": null,
       "left": null,
       "margin": null,
       "max_height": null,
       "max_width": null,
       "min_height": null,
       "min_width": null,
       "object_fit": null,
       "object_position": null,
       "order": null,
       "overflow": null,
       "overflow_x": null,
       "overflow_y": null,
       "padding": null,
       "right": null,
       "top": null,
       "visibility": null,
       "width": null
      }
     },
     "d9deb487876c42cfa3c95e2197175157": {
      "model_module": "@jupyter-widgets/base",
      "model_module_version": "1.2.0",
      "model_name": "LayoutModel",
      "state": {
       "_model_module": "@jupyter-widgets/base",
       "_model_module_version": "1.2.0",
       "_model_name": "LayoutModel",
       "_view_count": null,
       "_view_module": "@jupyter-widgets/base",
       "_view_module_version": "1.2.0",
       "_view_name": "LayoutView",
       "align_content": null,
       "align_items": null,
       "align_self": null,
       "border": null,
       "bottom": null,
       "display": null,
       "flex": null,
       "flex_flow": null,
       "grid_area": null,
       "grid_auto_columns": null,
       "grid_auto_flow": null,
       "grid_auto_rows": null,
       "grid_column": null,
       "grid_gap": null,
       "grid_row": null,
       "grid_template_areas": null,
       "grid_template_columns": null,
       "grid_template_rows": null,
       "height": null,
       "justify_content": null,
       "justify_items": null,
       "left": null,
       "margin": null,
       "max_height": null,
       "max_width": null,
       "min_height": null,
       "min_width": null,
       "object_fit": null,
       "object_position": null,
       "order": null,
       "overflow": null,
       "overflow_x": null,
       "overflow_y": null,
       "padding": null,
       "right": null,
       "top": null,
       "visibility": null,
       "width": null
      }
     },
     "dc170439aaeb4dad87ec83839e896e85": {
      "model_module": "@jupyter-widgets/base",
      "model_module_version": "1.2.0",
      "model_name": "LayoutModel",
      "state": {
       "_model_module": "@jupyter-widgets/base",
       "_model_module_version": "1.2.0",
       "_model_name": "LayoutModel",
       "_view_count": null,
       "_view_module": "@jupyter-widgets/base",
       "_view_module_version": "1.2.0",
       "_view_name": "LayoutView",
       "align_content": null,
       "align_items": null,
       "align_self": null,
       "border": null,
       "bottom": null,
       "display": null,
       "flex": null,
       "flex_flow": null,
       "grid_area": null,
       "grid_auto_columns": null,
       "grid_auto_flow": null,
       "grid_auto_rows": null,
       "grid_column": null,
       "grid_gap": null,
       "grid_row": null,
       "grid_template_areas": null,
       "grid_template_columns": null,
       "grid_template_rows": null,
       "height": null,
       "justify_content": null,
       "justify_items": null,
       "left": null,
       "margin": null,
       "max_height": null,
       "max_width": null,
       "min_height": null,
       "min_width": null,
       "object_fit": null,
       "object_position": null,
       "order": null,
       "overflow": null,
       "overflow_x": null,
       "overflow_y": null,
       "padding": null,
       "right": null,
       "top": null,
       "visibility": null,
       "width": null
      }
     },
     "dfcb0b76e9674feeab29562080252396": {
      "model_module": "@jupyter-widgets/controls",
      "model_module_version": "1.5.0",
      "model_name": "HBoxModel",
      "state": {
       "_dom_classes": [],
       "_model_module": "@jupyter-widgets/controls",
       "_model_module_version": "1.5.0",
       "_model_name": "HBoxModel",
       "_view_count": null,
       "_view_module": "@jupyter-widgets/controls",
       "_view_module_version": "1.5.0",
       "_view_name": "HBoxView",
       "box_style": "",
       "children": [
        "IPY_MODEL_e7ab3cd69bf44ed6a266c30b23d297e0",
        "IPY_MODEL_4e20a94ef6e244b19cd93e6bd066d539",
        "IPY_MODEL_3dbc7346c34a41988f76260693ff829a"
       ],
       "layout": "IPY_MODEL_dc170439aaeb4dad87ec83839e896e85"
      }
     },
     "e7ab3cd69bf44ed6a266c30b23d297e0": {
      "model_module": "@jupyter-widgets/controls",
      "model_module_version": "1.5.0",
      "model_name": "HTMLModel",
      "state": {
       "_dom_classes": [],
       "_model_module": "@jupyter-widgets/controls",
       "_model_module_version": "1.5.0",
       "_model_name": "HTMLModel",
       "_view_count": null,
       "_view_module": "@jupyter-widgets/controls",
       "_view_module_version": "1.5.0",
       "_view_name": "HTMLView",
       "description": "",
       "description_tooltip": null,
       "layout": "IPY_MODEL_7d716191db2246809d6022da38edb020",
       "placeholder": "​",
       "style": "IPY_MODEL_09f7fa692f954d52879458c9c548363a",
       "value": "100%"
      }
     },
     "f4c08137c5514b589fba463f5b265850": {
      "model_module": "@jupyter-widgets/controls",
      "model_module_version": "1.5.0",
      "model_name": "DescriptionStyleModel",
      "state": {
       "_model_module": "@jupyter-widgets/controls",
       "_model_module_version": "1.5.0",
       "_model_name": "DescriptionStyleModel",
       "_view_count": null,
       "_view_module": "@jupyter-widgets/base",
       "_view_module_version": "1.2.0",
       "_view_name": "StyleView",
       "description_width": ""
      }
     }
    },
    "version_major": 2,
    "version_minor": 0
   }
  }
 },
 "nbformat": 4,
 "nbformat_minor": 5
}
