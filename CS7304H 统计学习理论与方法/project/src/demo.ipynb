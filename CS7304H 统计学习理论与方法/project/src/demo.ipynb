{
 "cells": [
  {
   "cell_type": "code",
   "execution_count": 1,
   "metadata": {},
   "outputs": [],
   "source": [
    "import numpy as np\n",
    "import pandas as pd\n",
    "import pickle\n",
    "\n",
    "from modules.logistic_regression_cuda import LogisticRegression\n",
    "from modules.nn import NNEstimator\n",
    "from modules.svm import MultiClassSVM\n",
    "from modules.pca import PCA\n",
    "from modules.model_selection import CrossValidate, GridSearch, BootStrap"
   ]
  },
  {
   "cell_type": "code",
   "execution_count": 2,
   "metadata": {},
   "outputs": [],
   "source": [
    "# load data\n",
    "with open('../data/train_feature.pkl', 'rb') as f:\n",
    "    dataset_feature = pickle.load(f)\n",
    "    dataset_feature = np.array(dataset_feature.todense()) # (11314, 10000)\n",
    "dataset_label = np.load('../data/train_labels.npy') # (11314,)\n",
    "\n",
    "with open('../data/test_feature.pkl', 'rb') as f:\n",
    "    test_feature = pickle.load(f)\n",
    "    test_feature = np.array(test_feature.todense()) # (7532, 10000)"
   ]
  },
  {
   "cell_type": "markdown",
   "metadata": {},
   "source": [
    "## SVM"
   ]
  },
  {
   "cell_type": "code",
   "execution_count": 3,
   "metadata": {},
   "outputs": [],
   "source": [
    "lambda_ = 1 / 1e7\n",
    "svm = MultiClassSVM(C=1/lambda_, lr=lambda_)\n",
    "svm.fit(dataset_feature, dataset_label, n_jobs=20)"
   ]
  },
  {
   "cell_type": "code",
   "execution_count": 4,
   "metadata": {},
   "outputs": [],
   "source": [
    "svm_pred = svm.predict(test_feature)\n",
    "pd.DataFrame({'ID': np.arange(0, len(svm_pred)), 'label': svm_pred}).to_csv('submit_SVM.csv', index=False)"
   ]
  },
  {
   "cell_type": "markdown",
   "metadata": {},
   "source": [
    "## Logistic Regression\n",
    "\n",
    "    We use CUDA to accelerate the training process by default. If CUDA is not available, use `from modules.logistic_regression import LogisticRegression` instead."
   ]
  },
  {
   "cell_type": "code",
   "execution_count": 5,
   "metadata": {},
   "outputs": [
    {
     "name": "stdout",
     "output_type": "stream",
     "text": [
      "train accuracy:  0.9990277532260916\n"
     ]
    }
   ],
   "source": [
    "# if cuda is not available:\n",
    "# from modules.logistic_regression import LogisticRegression\n",
    "\n",
    "lr = LogisticRegression(lr=100, n_iters=1000)\n",
    "lr.fit(dataset_feature, dataset_label)\n",
    "print(\"train accuracy: \", lr.score(dataset_feature, dataset_label))"
   ]
  },
  {
   "cell_type": "code",
   "execution_count": 6,
   "metadata": {},
   "outputs": [],
   "source": [
    "lr_pred = lr.predict(test_feature)\n",
    "pd.DataFrame({'ID': np.arange(0, len(lr_pred)), 'label': lr_pred}).to_csv('submit_LR.csv', index=False)"
   ]
  },
  {
   "cell_type": "markdown",
   "metadata": {},
   "source": [
    "## Nerual Network\n"
   ]
  },
  {
   "cell_type": "code",
   "execution_count": 7,
   "metadata": {},
   "outputs": [
    {
     "name": "stdout",
     "output_type": "stream",
     "text": [
      "train accuracy:  0.9979671203818278\n"
     ]
    }
   ],
   "source": [
    "nn_net = NNEstimator(weight_decay=1e-7,hidden_size=1024,drop_rate=0.9,lr=1e-3,epoch_num=20) \n",
    "nn_net.fit(dataset_feature, dataset_label)\n",
    "print(\"train accuracy: \", nn_net.score(dataset_feature, dataset_label))"
   ]
  },
  {
   "cell_type": "code",
   "execution_count": 8,
   "metadata": {},
   "outputs": [],
   "source": [
    "nn_pred = nn_net.predict(test_feature)\n",
    "pd.DataFrame({'ID': np.arange(0, len(nn_pred)), 'label': nn_pred}).to_csv('submit_NN.csv', index=False)"
   ]
  },
  {
   "cell_type": "markdown",
   "metadata": {},
   "source": [
    "## Model Selection"
   ]
  },
  {
   "cell_type": "code",
   "execution_count": 9,
   "metadata": {},
   "outputs": [
    {
     "name": "stdout",
     "output_type": "stream",
     "text": [
      "[0.8926204153778171, 0.9058771542200619, 0.9054352629253204, 0.900574458683164, 0.9022988505747126]\n"
     ]
    }
   ],
   "source": [
    "## Cross Validate\n",
    "\n",
    "cv = CrossValidate(LogisticRegression(lr=100, n_iters=1000),n_folds=5)\n",
    "cv.fit(dataset_feature, dataset_label)\n",
    "print(cv.get_result())"
   ]
  },
  {
   "cell_type": "code",
   "execution_count": 10,
   "metadata": {},
   "outputs": [
    {
     "name": "stdout",
     "output_type": "stream",
     "text": [
      "[0.8847590953785645, 0.8876315267024022, 0.8851113716295428, 0.8818882085719929, 0.8789958815454011]\n"
     ]
    }
   ],
   "source": [
    "## BootStrap\n",
    "\n",
    "bs = BootStrap(LogisticRegression(lr=100, n_iters=1000),n_folds=5)\n",
    "bs.fit(dataset_feature, dataset_label)\n",
    "print(bs.get_result())"
   ]
  },
  {
   "cell_type": "markdown",
   "metadata": {},
   "source": [
    "## Model Search"
   ]
  },
  {
   "cell_type": "code",
   "execution_count": 11,
   "metadata": {},
   "outputs": [
    {
     "data": {
      "text/html": [
       "<div>\n",
       "<style scoped>\n",
       "    .dataframe tbody tr th:only-of-type {\n",
       "        vertical-align: middle;\n",
       "    }\n",
       "\n",
       "    .dataframe tbody tr th {\n",
       "        vertical-align: top;\n",
       "    }\n",
       "\n",
       "    .dataframe thead th {\n",
       "        text-align: right;\n",
       "    }\n",
       "</style>\n",
       "<table border=\"1\" class=\"dataframe\">\n",
       "  <thead>\n",
       "    <tr style=\"text-align: right;\">\n",
       "      <th></th>\n",
       "      <th>lr</th>\n",
       "      <th>C</th>\n",
       "      <th>score</th>\n",
       "    </tr>\n",
       "  </thead>\n",
       "  <tbody>\n",
       "    <tr>\n",
       "      <th>0</th>\n",
       "      <td>1.000000e-04</td>\n",
       "      <td>10000.0</td>\n",
       "      <td>0.773285</td>\n",
       "    </tr>\n",
       "    <tr>\n",
       "      <th>1</th>\n",
       "      <td>1.000000e-04</td>\n",
       "      <td>100000.0</td>\n",
       "      <td>0.726169</td>\n",
       "    </tr>\n",
       "    <tr>\n",
       "      <th>2</th>\n",
       "      <td>1.000000e-04</td>\n",
       "      <td>1000000.0</td>\n",
       "      <td>0.585468</td>\n",
       "    </tr>\n",
       "    <tr>\n",
       "      <th>3</th>\n",
       "      <td>1.000000e-04</td>\n",
       "      <td>10000000.0</td>\n",
       "      <td>0.585295</td>\n",
       "    </tr>\n",
       "    <tr>\n",
       "      <th>4</th>\n",
       "      <td>1.000000e-05</td>\n",
       "      <td>10000.0</td>\n",
       "      <td>0.883950</td>\n",
       "    </tr>\n",
       "    <tr>\n",
       "      <th>5</th>\n",
       "      <td>1.000000e-05</td>\n",
       "      <td>100000.0</td>\n",
       "      <td>0.865739</td>\n",
       "    </tr>\n",
       "    <tr>\n",
       "      <th>6</th>\n",
       "      <td>1.000000e-05</td>\n",
       "      <td>1000000.0</td>\n",
       "      <td>0.851602</td>\n",
       "    </tr>\n",
       "    <tr>\n",
       "      <th>7</th>\n",
       "      <td>1.000000e-05</td>\n",
       "      <td>10000000.0</td>\n",
       "      <td>0.844354</td>\n",
       "    </tr>\n",
       "    <tr>\n",
       "      <th>8</th>\n",
       "      <td>1.000000e-06</td>\n",
       "      <td>10000.0</td>\n",
       "      <td>0.895173</td>\n",
       "    </tr>\n",
       "    <tr>\n",
       "      <th>9</th>\n",
       "      <td>1.000000e-06</td>\n",
       "      <td>100000.0</td>\n",
       "      <td>0.891109</td>\n",
       "    </tr>\n",
       "    <tr>\n",
       "      <th>10</th>\n",
       "      <td>1.000000e-06</td>\n",
       "      <td>1000000.0</td>\n",
       "      <td>0.888898</td>\n",
       "    </tr>\n",
       "    <tr>\n",
       "      <th>11</th>\n",
       "      <td>1.000000e-06</td>\n",
       "      <td>10000000.0</td>\n",
       "      <td>0.868130</td>\n",
       "    </tr>\n",
       "    <tr>\n",
       "      <th>12</th>\n",
       "      <td>1.000000e-07</td>\n",
       "      <td>10000.0</td>\n",
       "      <td>0.861942</td>\n",
       "    </tr>\n",
       "    <tr>\n",
       "      <th>13</th>\n",
       "      <td>1.000000e-07</td>\n",
       "      <td>100000.0</td>\n",
       "      <td>0.903836</td>\n",
       "    </tr>\n",
       "    <tr>\n",
       "      <th>14</th>\n",
       "      <td>1.000000e-07</td>\n",
       "      <td>1000000.0</td>\n",
       "      <td>0.899417</td>\n",
       "    </tr>\n",
       "    <tr>\n",
       "      <th>15</th>\n",
       "      <td>1.000000e-07</td>\n",
       "      <td>10000000.0</td>\n",
       "      <td>0.885539</td>\n",
       "    </tr>\n",
       "  </tbody>\n",
       "</table>\n",
       "</div>"
      ],
      "text/plain": [
       "              lr           C     score\n",
       "0   1.000000e-04     10000.0  0.773285\n",
       "1   1.000000e-04    100000.0  0.726169\n",
       "2   1.000000e-04   1000000.0  0.585468\n",
       "3   1.000000e-04  10000000.0  0.585295\n",
       "4   1.000000e-05     10000.0  0.883950\n",
       "5   1.000000e-05    100000.0  0.865739\n",
       "6   1.000000e-05   1000000.0  0.851602\n",
       "7   1.000000e-05  10000000.0  0.844354\n",
       "8   1.000000e-06     10000.0  0.895173\n",
       "9   1.000000e-06    100000.0  0.891109\n",
       "10  1.000000e-06   1000000.0  0.888898\n",
       "11  1.000000e-06  10000000.0  0.868130\n",
       "12  1.000000e-07     10000.0  0.861942\n",
       "13  1.000000e-07    100000.0  0.903836\n",
       "14  1.000000e-07   1000000.0  0.899417\n",
       "15  1.000000e-07  10000000.0  0.885539"
      ]
     },
     "execution_count": 11,
     "metadata": {},
     "output_type": "execute_result"
    }
   ],
   "source": [
    "param_grid = {\n",
    "    'lr':[1e-4,1e-5,1e-6,1e-7],\n",
    "    'C':[1e4,1e5,1e6,1e7],\n",
    "}\n",
    "gs_svm = GridSearch(MultiClassSVM(), param_grid, 5)\n",
    "gs_svm.fit(dataset_feature, dataset_label, n_jobs=20)\n",
    "gs_svm_results_df = pd.DataFrame(columns=list(param_grid.keys())+['score'])\n",
    "for params, score in gs_svm.results:\n",
    "    gs_svm_results_df = gs_svm_results_df.append(pd.Series({**params, 'score': score}), ignore_index=True)\n",
    "gs_svm_results_df"
   ]
  },
  {
   "cell_type": "code",
   "execution_count": 12,
   "metadata": {},
   "outputs": [
    {
     "data": {
      "text/html": [
       "<div>\n",
       "<style scoped>\n",
       "    .dataframe tbody tr th:only-of-type {\n",
       "        vertical-align: middle;\n",
       "    }\n",
       "\n",
       "    .dataframe tbody tr th {\n",
       "        vertical-align: top;\n",
       "    }\n",
       "\n",
       "    .dataframe thead th {\n",
       "        text-align: right;\n",
       "    }\n",
       "</style>\n",
       "<table border=\"1\" class=\"dataframe\">\n",
       "  <thead>\n",
       "    <tr style=\"text-align: right;\">\n",
       "      <th></th>\n",
       "      <th>lr</th>\n",
       "      <th>drop_rate</th>\n",
       "      <th>hidden_size</th>\n",
       "      <th>epoch_num</th>\n",
       "      <th>weight_decay</th>\n",
       "      <th>score</th>\n",
       "    </tr>\n",
       "  </thead>\n",
       "  <tbody>\n",
       "    <tr>\n",
       "      <th>0</th>\n",
       "      <td>0.001</td>\n",
       "      <td>0.7</td>\n",
       "      <td>1024.0</td>\n",
       "      <td>15.0</td>\n",
       "      <td>0.000000e+00</td>\n",
       "      <td>0.911614</td>\n",
       "    </tr>\n",
       "    <tr>\n",
       "      <th>1</th>\n",
       "      <td>0.001</td>\n",
       "      <td>0.7</td>\n",
       "      <td>1024.0</td>\n",
       "      <td>15.0</td>\n",
       "      <td>1.000000e-07</td>\n",
       "      <td>0.912056</td>\n",
       "    </tr>\n",
       "    <tr>\n",
       "      <th>2</th>\n",
       "      <td>0.001</td>\n",
       "      <td>0.7</td>\n",
       "      <td>1024.0</td>\n",
       "      <td>15.0</td>\n",
       "      <td>1.000000e-06</td>\n",
       "      <td>0.912675</td>\n",
       "    </tr>\n",
       "    <tr>\n",
       "      <th>3</th>\n",
       "      <td>0.001</td>\n",
       "      <td>0.7</td>\n",
       "      <td>1024.0</td>\n",
       "      <td>15.0</td>\n",
       "      <td>1.000000e-05</td>\n",
       "      <td>0.910377</td>\n",
       "    </tr>\n",
       "    <tr>\n",
       "      <th>4</th>\n",
       "      <td>0.001</td>\n",
       "      <td>0.7</td>\n",
       "      <td>1024.0</td>\n",
       "      <td>20.0</td>\n",
       "      <td>0.000000e+00</td>\n",
       "      <td>0.913470</td>\n",
       "    </tr>\n",
       "    <tr>\n",
       "      <th>...</th>\n",
       "      <td>...</td>\n",
       "      <td>...</td>\n",
       "      <td>...</td>\n",
       "      <td>...</td>\n",
       "      <td>...</td>\n",
       "      <td>...</td>\n",
       "    </tr>\n",
       "    <tr>\n",
       "      <th>103</th>\n",
       "      <td>0.001</td>\n",
       "      <td>0.9</td>\n",
       "      <td>2048.0</td>\n",
       "      <td>20.0</td>\n",
       "      <td>1.000000e-05</td>\n",
       "      <td>0.911437</td>\n",
       "    </tr>\n",
       "    <tr>\n",
       "      <th>104</th>\n",
       "      <td>0.001</td>\n",
       "      <td>0.9</td>\n",
       "      <td>2048.0</td>\n",
       "      <td>25.0</td>\n",
       "      <td>0.000000e+00</td>\n",
       "      <td>0.911172</td>\n",
       "    </tr>\n",
       "    <tr>\n",
       "      <th>105</th>\n",
       "      <td>0.001</td>\n",
       "      <td>0.9</td>\n",
       "      <td>2048.0</td>\n",
       "      <td>25.0</td>\n",
       "      <td>1.000000e-07</td>\n",
       "      <td>0.915768</td>\n",
       "    </tr>\n",
       "    <tr>\n",
       "      <th>106</th>\n",
       "      <td>0.001</td>\n",
       "      <td>0.9</td>\n",
       "      <td>2048.0</td>\n",
       "      <td>25.0</td>\n",
       "      <td>1.000000e-06</td>\n",
       "      <td>0.913381</td>\n",
       "    </tr>\n",
       "    <tr>\n",
       "      <th>107</th>\n",
       "      <td>0.001</td>\n",
       "      <td>0.9</td>\n",
       "      <td>2048.0</td>\n",
       "      <td>25.0</td>\n",
       "      <td>1.000000e-05</td>\n",
       "      <td>0.908786</td>\n",
       "    </tr>\n",
       "  </tbody>\n",
       "</table>\n",
       "<p>108 rows × 6 columns</p>\n",
       "</div>"
      ],
      "text/plain": [
       "        lr  drop_rate  hidden_size  epoch_num  weight_decay     score\n",
       "0    0.001        0.7       1024.0       15.0  0.000000e+00  0.911614\n",
       "1    0.001        0.7       1024.0       15.0  1.000000e-07  0.912056\n",
       "2    0.001        0.7       1024.0       15.0  1.000000e-06  0.912675\n",
       "3    0.001        0.7       1024.0       15.0  1.000000e-05  0.910377\n",
       "4    0.001        0.7       1024.0       20.0  0.000000e+00  0.913470\n",
       "..     ...        ...          ...        ...           ...       ...\n",
       "103  0.001        0.9       2048.0       20.0  1.000000e-05  0.911437\n",
       "104  0.001        0.9       2048.0       25.0  0.000000e+00  0.911172\n",
       "105  0.001        0.9       2048.0       25.0  1.000000e-07  0.915768\n",
       "106  0.001        0.9       2048.0       25.0  1.000000e-06  0.913381\n",
       "107  0.001        0.9       2048.0       25.0  1.000000e-05  0.908786\n",
       "\n",
       "[108 rows x 6 columns]"
      ]
     },
     "execution_count": 12,
     "metadata": {},
     "output_type": "execute_result"
    }
   ],
   "source": [
    "param_grid = {\n",
    "    'lr': [1e-3],\n",
    "    'drop_rate':[0.7,0.8,0.9],\n",
    "    'hidden_size':[1024, 1024+512, 2048,],\n",
    "    'epoch_num':[15,20,25], \n",
    "    'weight_decay':[0,1e-7,1e-6,1e-5]\n",
    "}\n",
    "gs_nn = GridSearch(NNEstimator(), param_grid, 5)\n",
    "gs_nn.fit(dataset_feature, dataset_label)\n",
    "gs_nn_results_df = pd.DataFrame(columns=list(param_grid.keys())+['score'])\n",
    "for params, score in gs_nn.results:\n",
    "    gs_nn_results_df = gs_nn_results_df.append(pd.Series({**params, 'score': score}), ignore_index=True)\n",
    "gs_nn_results_df\n"
   ]
  },
  {
   "cell_type": "code",
   "execution_count": 13,
   "metadata": {},
   "outputs": [
    {
     "data": {
      "text/html": [
       "<div>\n",
       "<style scoped>\n",
       "    .dataframe tbody tr th:only-of-type {\n",
       "        vertical-align: middle;\n",
       "    }\n",
       "\n",
       "    .dataframe tbody tr th {\n",
       "        vertical-align: top;\n",
       "    }\n",
       "\n",
       "    .dataframe thead th {\n",
       "        text-align: right;\n",
       "    }\n",
       "</style>\n",
       "<table border=\"1\" class=\"dataframe\">\n",
       "  <thead>\n",
       "    <tr style=\"text-align: right;\">\n",
       "      <th></th>\n",
       "      <th>lr</th>\n",
       "      <th>n_iters</th>\n",
       "      <th>score</th>\n",
       "    </tr>\n",
       "  </thead>\n",
       "  <tbody>\n",
       "    <tr>\n",
       "      <th>0</th>\n",
       "      <td>0.1</td>\n",
       "      <td>1000.0</td>\n",
       "      <td>0.669521</td>\n",
       "    </tr>\n",
       "    <tr>\n",
       "      <th>1</th>\n",
       "      <td>0.1</td>\n",
       "      <td>2000.0</td>\n",
       "      <td>0.733162</td>\n",
       "    </tr>\n",
       "    <tr>\n",
       "      <th>2</th>\n",
       "      <td>1.0</td>\n",
       "      <td>1000.0</td>\n",
       "      <td>0.822520</td>\n",
       "    </tr>\n",
       "    <tr>\n",
       "      <th>3</th>\n",
       "      <td>1.0</td>\n",
       "      <td>2000.0</td>\n",
       "      <td>0.841701</td>\n",
       "    </tr>\n",
       "    <tr>\n",
       "      <th>4</th>\n",
       "      <td>10.0</td>\n",
       "      <td>1000.0</td>\n",
       "      <td>0.885539</td>\n",
       "    </tr>\n",
       "    <tr>\n",
       "      <th>5</th>\n",
       "      <td>10.0</td>\n",
       "      <td>2000.0</td>\n",
       "      <td>0.892522</td>\n",
       "    </tr>\n",
       "    <tr>\n",
       "      <th>6</th>\n",
       "      <td>100.0</td>\n",
       "      <td>1000.0</td>\n",
       "      <td>0.898886</td>\n",
       "    </tr>\n",
       "    <tr>\n",
       "      <th>7</th>\n",
       "      <td>100.0</td>\n",
       "      <td>2000.0</td>\n",
       "      <td>0.902599</td>\n",
       "    </tr>\n",
       "    <tr>\n",
       "      <th>8</th>\n",
       "      <td>1000.0</td>\n",
       "      <td>1000.0</td>\n",
       "      <td>0.880414</td>\n",
       "    </tr>\n",
       "    <tr>\n",
       "      <th>9</th>\n",
       "      <td>1000.0</td>\n",
       "      <td>2000.0</td>\n",
       "      <td>0.884480</td>\n",
       "    </tr>\n",
       "  </tbody>\n",
       "</table>\n",
       "</div>"
      ],
      "text/plain": [
       "       lr  n_iters     score\n",
       "0     0.1   1000.0  0.669521\n",
       "1     0.1   2000.0  0.733162\n",
       "2     1.0   1000.0  0.822520\n",
       "3     1.0   2000.0  0.841701\n",
       "4    10.0   1000.0  0.885539\n",
       "5    10.0   2000.0  0.892522\n",
       "6   100.0   1000.0  0.898886\n",
       "7   100.0   2000.0  0.902599\n",
       "8  1000.0   1000.0  0.880414\n",
       "9  1000.0   2000.0  0.884480"
      ]
     },
     "execution_count": 13,
     "metadata": {},
     "output_type": "execute_result"
    }
   ],
   "source": [
    "param_grid = {\n",
    "    'lr': [0.1, 1, 10, 100, 1000],\n",
    "    'n_iters': [1000, 2000],\n",
    "}\n",
    "gs_lr = GridSearch(LogisticRegression(), param_grid, 5)\n",
    "gs_lr.fit(dataset_feature, dataset_label)\n",
    "gs_lr_results_df = pd.DataFrame(columns=list(param_grid.keys())+['score'])\n",
    "for params, score in gs_lr.results:\n",
    "    gs_lr_results_df = gs_lr_results_df.append(pd.Series({**params, 'score': score}), ignore_index=True)\n",
    "gs_lr_results_df"
   ]
  },
  {
   "cell_type": "markdown",
   "metadata": {},
   "source": [
    "## PCA"
   ]
  },
  {
   "cell_type": "code",
   "execution_count": 14,
   "metadata": {},
   "outputs": [],
   "source": [
    "pca = PCA(n_components=5000)\n",
    "pca.fit(dataset_feature)"
   ]
  },
  {
   "cell_type": "code",
   "execution_count": 15,
   "metadata": {},
   "outputs": [],
   "source": [
    "dataset_feature_pca = pca.transform(dataset_feature)\n",
    "test_feature_pca = pca.transform(test_feature)"
   ]
  },
  {
   "cell_type": "code",
   "execution_count": 16,
   "metadata": {},
   "outputs": [
    {
     "name": "stdout",
     "output_type": "stream",
     "text": [
      "train accuracy:  0.9949619939897472\n"
     ]
    }
   ],
   "source": [
    "lr_pca = LogisticRegression(lr=100, n_iters=1000)\n",
    "lr_pca.fit(dataset_feature_pca, dataset_label)\n",
    "print(\"train accuracy: \", lr_pca.score(dataset_feature_pca, dataset_label))\n",
    "lr_pred_pca = lr_pca.predict(test_feature_pca)\n",
    "pd.DataFrame({'ID': np.arange(0, len(lr_pred_pca)), 'label': lr_pred_pca}).to_csv('submit_LR_pca.csv', index=False)"
   ]
  },
  {
   "cell_type": "code",
   "execution_count": 17,
   "metadata": {},
   "outputs": [
    {
     "name": "stdout",
     "output_type": "stream",
     "text": [
      "train accuracy:  0.9642920275764539\n"
     ]
    }
   ],
   "source": [
    "svm_pca = MultiClassSVM(C=1e5, lr=1e-7)\n",
    "svm_pca.fit(dataset_feature_pca, dataset_label, n_jobs=20)\n",
    "print(\"train accuracy: \", svm_pca.score(dataset_feature_pca, dataset_label))\n",
    "svm_pred_pca = svm_pca.predict(test_feature_pca)\n",
    "pd.DataFrame({'ID': np.arange(0, len(svm_pred_pca)), 'label': svm_pred_pca}).to_csv('submit_SVM_pca.csv', index=False)"
   ]
  },
  {
   "cell_type": "code",
   "execution_count": 18,
   "metadata": {},
   "outputs": [
    {
     "name": "stdout",
     "output_type": "stream",
     "text": [
      "train accuracy:  0.9950503800601025\n"
     ]
    }
   ],
   "source": [
    "nn_pca = NNEstimator(weight_decay=1e-7,hidden_size=1024,drop_rate=0.9,lr=1e-3,epoch_num=20)\n",
    "nn_pca.fit(dataset_feature_pca, dataset_label)\n",
    "print(\"train accuracy: \", nn_pca.score(dataset_feature_pca, dataset_label))\n",
    "nn_pred_pca = nn_pca.predict(test_feature_pca)\n",
    "pd.DataFrame({'ID': np.arange(0, len(nn_pred_pca)), 'label': nn_pred_pca}).to_csv('submit_NN_pca.csv', index=False)"
   ]
  }
 ],
 "metadata": {
  "kernelspec": {
   "display_name": "base",
   "language": "python",
   "name": "python3"
  },
  "language_info": {
   "codemirror_mode": {
    "name": "ipython",
    "version": 3
   },
   "file_extension": ".py",
   "mimetype": "text/x-python",
   "name": "python",
   "nbconvert_exporter": "python",
   "pygments_lexer": "ipython3",
   "version": "3.9.7"
  }
 },
 "nbformat": 4,
 "nbformat_minor": 2
}
